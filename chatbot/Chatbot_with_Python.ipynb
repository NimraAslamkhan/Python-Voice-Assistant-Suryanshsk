{
  "nbformat": 4,
  "nbformat_minor": 0,
  "metadata": {
    "colab": {
      "provenance": []
    },
    "kernelspec": {
      "name": "python3",
      "display_name": "Python 3"
    },
    "language_info": {
      "name": "python"
    }
  },
  "cells": [
    {
      "cell_type": "markdown",
      "source": [
        "#Build a  Chatbot with Python\n",
        "build your very own chatbot using Python. There are broadly two variants of chatbots, Rule-based and Self-learning.\n",
        "A rule-based bot uses some rules on which it is trained, while a self-learning bot uses some machine-learning-based approach to chat.\n",
        "\n",
        " I will show you how to create a simple and quick chatbot in python using a rule-based approach."
      ],
      "metadata": {
        "id": "OJvf1vyis7XG"
      }
    },
    {
      "cell_type": "code",
      "source": [
        "from nltk.chat.util import Chat, reflections"
      ],
      "metadata": {
        "id": "b6SkSQoSrrRF"
      },
      "execution_count": 11,
      "outputs": []
    },
    {
      "cell_type": "code",
      "source": [
        "#Pairs is a list of patterns and responses.\n",
        "pairs = [\n",
        "    [\n",
        "        r\"(.*)my name is (.*)\",\n",
        "        [\"Hello %2, How are you today ?\",]\n",
        "    ],\n",
        "    [\n",
        "        r\"(.*)help(.*) \",\n",
        "        [\"I can help you \",]\n",
        "    ],\n",
        "     [\n",
        "        r\"(.*) your name ?\",\n",
        "        [\"My name is thecleverprogrammer, but you can just call me robot and I'm a chatbot .\",]\n",
        "    ],\n",
        "    [\n",
        "        r\"how are you (.*) ?\",\n",
        "        [\"I'm doing very well\", \"i am great !\"]\n",
        "    ],\n",
        "    [\n",
        "        r\"sorry (.*)\",\n",
        "        [\"Its alright\",\"Its OK, never mind that\",]\n",
        "    ],\n",
        "    [\n",
        "        r\"i'm (.*) (good|well|okay|ok)\",\n",
        "        [\"Nice to hear that\",\"Alright, great !\",]\n",
        "    ],\n",
        "    [\n",
        "        r\"(hi|hey|hello|hola|holla)(.*)\",\n",
        "        [\"Hello\", \"Hey there\",]\n",
        "    ],\n",
        "    [\n",
        "        r\"what (.*) want ?\",\n",
        "        [\"Make me an offer I can't refuse\",]\n",
        "\n",
        "    ],\n",
        "    [\n",
        "        r\"(.*)created(.*)\",\n",
        "        [\"Aman Kharwal created me using Python's NLTK library \",\"top secret ;)\",]\n",
        "    ],\n",
        "    [\n",
        "        r\"(.*) (location|city) ?\",\n",
        "        ['New Delhi, India',]\n",
        "    ],\n",
        "    [\n",
        "        r\"(.*)raining in (.*)\",\n",
        "        [\"No rain in the past 4 days here in %2\",\"In %2 there is a 50% chance of rain\",]\n",
        "    ],\n",
        "    [\n",
        "        r\"how (.*) health (.*)\",\n",
        "        [\"Health is very important, but I am a computer, so I don't need to worry about my health \",]\n",
        "    ],\n",
        "    [\n",
        "        r\"(.*)(sports|game|sport)(.*)\",\n",
        "        [\"I'm a very big fan of Cricket\",]\n",
        "    ],\n",
        "    [\n",
        "        r\"who (.*) (Cricketer|Batsman)?\",\n",
        "        [\"Virat Kohli\"]\n",
        "    ],\n",
        "    [\n",
        "        r\"quit\",\n",
        "        [\"Bye for now. See you soon :) \",\"It was nice talking to you. See you soon :)\"]\n",
        "    ],\n",
        "    [\n",
        "        r\"(.*)\",\n",
        "        ['That is nice to hear']\n",
        "    ],\n",
        "]"
      ],
      "metadata": {
        "id": "EeBu-mmwsE01"
      },
      "execution_count": 12,
      "outputs": []
    },
    {
      "cell_type": "code",
      "source": [
        "print(reflections)"
      ],
      "metadata": {
        "colab": {
          "base_uri": "https://localhost:8080/"
        },
        "id": "me7otoCxsMWu",
        "outputId": "36a46c27-995c-45f2-d980-5d446c84a93f"
      },
      "execution_count": 13,
      "outputs": [
        {
          "output_type": "stream",
          "name": "stdout",
          "text": [
            "{'i am': 'you are', 'i was': 'you were', 'i': 'you', \"i'm\": 'you are', \"i'd\": 'you would', \"i've\": 'you have', \"i'll\": 'you will', 'my': 'your', 'you are': 'I am', 'you were': 'I was', \"you've\": 'I have', \"you'll\": 'I will', 'your': 'my', 'yours': 'mine', 'you': 'me', 'me': 'you'}\n"
          ]
        }
      ]
    },
    {
      "cell_type": "code",
      "source": [
        "my_dummy_reflections= {\n",
        "    \"go\"     : \"gone\",\n",
        "    \"hello\"    : \"hey there\"\n",
        "}"
      ],
      "metadata": {
        "id": "jmil9OAWsQrR"
      },
      "execution_count": 14,
      "outputs": []
    },
    {
      "cell_type": "code",
      "source": [
        "#default message at the start of chat\n",
        "print(\"Hi, I'm thecleverprogrammer and I like to chat\\nPlease type lowercase English language to start a conversation. Type quit to leave \")\n",
        "#Create Chat Bot\n",
        "chat = Chat(pairs, reflections)"
      ],
      "metadata": {
        "colab": {
          "base_uri": "https://localhost:8080/"
        },
        "id": "MyUmvWdSsXsP",
        "outputId": "3663c2cb-ea3b-47b3-ebe6-2468300dc911"
      },
      "execution_count": 15,
      "outputs": [
        {
          "output_type": "stream",
          "name": "stdout",
          "text": [
            "Hi, I'm thecleverprogrammer and I like to chat\n",
            "Please type lowercase English language to start a conversation. Type quit to leave \n"
          ]
        }
      ]
    },
    {
      "cell_type": "code",
      "source": [
        "#Start conversation\n",
        "chat.converse()"
      ],
      "metadata": {
        "colab": {
          "base_uri": "https://localhost:8080/"
        },
        "id": "WsCpxiecsa-P",
        "outputId": "79d92c2d-c22d-4266-8066-c7b7e5a1b156"
      },
      "execution_count": null,
      "outputs": [
        {
          "output_type": "stream",
          "name": "stdout",
          "text": [
            ">hello\n",
            "Hello\n",
            ">i am there \n",
            "That is nice to hear\n",
            ">how are you \n",
            "I'm doing very well\n",
            ">what is your name \n",
            "My name is thecleverprogrammer, but you can just call me robot and I'm a chatbot .\n",
            ">what is your profasion\n",
            "That is nice to hear\n"
          ]
        }
      ]
    }
  ]
}